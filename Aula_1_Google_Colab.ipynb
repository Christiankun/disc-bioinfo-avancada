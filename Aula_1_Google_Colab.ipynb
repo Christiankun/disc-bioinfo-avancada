{
  "nbformat": 4,
  "nbformat_minor": 0,
  "metadata": {
    "colab": {
      "name": "Aula 1: Google Colab.ipynb",
      "provenance": [],
      "collapsed_sections": [],
      "toc_visible": true
    },
    "kernelspec": {
      "name": "python3",
      "display_name": "Python 3"
    }
  },
  "cells": [
    {
      "cell_type": "markdown",
      "metadata": {
        "id": "GTe9fEhJvcU0"
      },
      "source": [
        "# **Aula** 1: Google Colab\r\n",
        "\r\n",
        "O Google colab é uma interface desenvolvida pelo Google para desenvolvedores poderem rodar suas implementações de maneira rápida e ágil, sem necessitar de um poder local de maquina, visto que é tudo via cloud.\r\n",
        "\r\n",
        "## **Resumo**\r\n",
        "\r\n",
        "Nesta aula foram apresentados os primeiros passos de introdução ao Google colab, Markdown e Terminal Linux.\r\n",
        "\r\n",
        "[Google Colab](https://colab.research.google.com/)\r\n",
        "\r\n",
        "![](https://i.pinimg.com/474x/15/1b/1b/151b1bca618ab24b259701c2962dad2d.jpg)\r\n",
        "\r\n",
        "![](https://colab.research.google.com/img/colab_favicon_256px.png)"
      ]
    },
    {
      "cell_type": "code",
      "metadata": {
        "id": "29flG8oeveEl"
      },
      "source": [
        "!mkdir data"
      ],
      "execution_count": null,
      "outputs": []
    },
    {
      "cell_type": "code",
      "metadata": {
        "colab": {
          "base_uri": "https://localhost:8080/"
        },
        "id": "HY3Jglht7piR",
        "outputId": "98c0c5f8-c0c7-4d6c-d352-059096f80e35"
      },
      "source": [
        "!wget -O data/uniprot_sprot.fasta.gz https://ftp.uniprot.org/pub/databases/uniprot/current_release/knowledgebase/complete/uniprot_sprot.fasta.gz"
      ],
      "execution_count": null,
      "outputs": [
        {
          "output_type": "stream",
          "text": [
            "--2021-03-15 12:50:45--  https://ftp.uniprot.org/pub/databases/uniprot/current_release/knowledgebase/complete/uniprot_sprot.fasta.gz\n",
            "Resolving ftp.uniprot.org (ftp.uniprot.org)... 141.161.180.197\n",
            "Connecting to ftp.uniprot.org (ftp.uniprot.org)|141.161.180.197|:443... connected.\n",
            "HTTP request sent, awaiting response... 200 OK\n",
            "Length: 89862102 (86M) [application/x-gzip]\n",
            "Saving to: ‘data/uniprot_sprot.fasta.gz’\n",
            "\n",
            "data/uniprot_sprot. 100%[===================>]  85.70M  2.81MB/s    in 38s     \n",
            "\n",
            "2021-03-15 12:51:23 (2.25 MB/s) - ‘data/uniprot_sprot.fasta.gz’ saved [89862102/89862102]\n",
            "\n"
          ],
          "name": "stdout"
        }
      ]
    },
    {
      "cell_type": "code",
      "metadata": {
        "colab": {
          "base_uri": "https://localhost:8080/"
        },
        "id": "EILK2Y9t79nU",
        "outputId": "c53e92b7-b297-44ac-ca63-56e24ce76cda"
      },
      "source": [
        "!ls data"
      ],
      "execution_count": null,
      "outputs": [
        {
          "output_type": "stream",
          "text": [
            "uniprot_sprot.fasta.gz\n"
          ],
          "name": "stdout"
        }
      ]
    },
    {
      "cell_type": "code",
      "metadata": {
        "id": "3ocSz0pw8Rkf"
      },
      "source": [
        "!gzip -d data/uniprot_sprot.fasta.gz"
      ],
      "execution_count": null,
      "outputs": []
    },
    {
      "cell_type": "code",
      "metadata": {
        "colab": {
          "base_uri": "https://localhost:8080/"
        },
        "id": "3l7BgVS68dKk",
        "outputId": "f65a39f1-bb20-4b04-ec8a-8a627ecb1ba6"
      },
      "source": [
        "!ls data"
      ],
      "execution_count": null,
      "outputs": [
        {
          "output_type": "stream",
          "text": [
            "uniprot_sprot.fasta\n"
          ],
          "name": "stdout"
        }
      ]
    },
    {
      "cell_type": "code",
      "metadata": {
        "colab": {
          "base_uri": "https://localhost:8080/"
        },
        "id": "N0E80Fn18h6c",
        "outputId": "72b1de7f-93a3-425c-aea1-e948f335c590"
      },
      "source": [
        "!head -10 data/uniprot_sprot.fasta"
      ],
      "execution_count": null,
      "outputs": [
        {
          "output_type": "stream",
          "text": [
            ">sp|Q6GZX4|001R_FRG3G Putative transcription factor 001R OS=Frog virus 3 (isolate Goorha) OX=654924 GN=FV3-001R PE=4 SV=1\n",
            "MAFSAEDVLKEYDRRRRMEALLLSLYYPNDRKLLDYKEWSPPRVQVECPKAPVEWNNPPS\n",
            "EKGLIVGHFSGIKYKGEKAQASEVDVNKMCCWVSKFKDAMRRYQGIQTCKIPGKVLSDLD\n",
            "AKIKAYNLTVEGVEGFVRYSRVTKQHVAAFLKELRHSKQYENVNLIHYILTDKRVDIQHL\n",
            "EKDLVKDFKALVESAHRMRQGHMINVKYILYQLLKKHGHGPDGPDILTVKTGSKGVLYDD\n",
            "SFRKIYTDLGWKFTPL\n",
            ">sp|Q6GZX3|002L_FRG3G Uncharacterized protein 002L OS=Frog virus 3 (isolate Goorha) OX=654924 GN=FV3-002L PE=4 SV=1\n",
            "MSIIGATRLQNDKSDTYSAGPCYAGGCSAFTPRGTCGKDWDLGEQTCASGFCTSQPLCAR\n",
            "IKKTQVCGLRYSSKGKDPLVSAEWDSRGAPYVRCTYDADLIDTQAQVDQFVSMFGESPSL\n",
            "AERYCMRGVKNTAGELVSRVSSDADPAGGWCRKWYSAHRGPDQDAALGSFCIKNPGAADC\n"
          ],
          "name": "stdout"
        }
      ]
    }
  ]
}