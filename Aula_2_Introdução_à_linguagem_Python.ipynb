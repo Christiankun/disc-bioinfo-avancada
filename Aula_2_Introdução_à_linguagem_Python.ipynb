{
  "nbformat": 4,
  "nbformat_minor": 0,
  "metadata": {
    "colab": {
      "name": "Aula 2 - Introdução à linguagem Python.ipynb",
      "provenance": [],
      "toc_visible": true
    },
    "kernelspec": {
      "name": "python3",
      "display_name": "Python 3"
    },
    "language_info": {
      "name": "python"
    }
  },
  "cells": [
    {
      "cell_type": "markdown",
      "metadata": {
        "id": "EFDJCisQTmNY"
      },
      "source": [
        "# Aula 2: **Introdução à Linguagem Python**\n",
        "\n",
        "  O [Python](https://www.python.org/) é uma linguagem interpretada, bastante flexivel e prática, dentre suas principais características, está o enorme número de bibliotecas disponíveis para trabalharmos com funções otimizadas, como o [BioPython](https://biopython.org/), uma ferramenta muito útil para trabalhar com dados biológicos. Além do Python básico já servir muito bem para várias aplicações, então mesmo sem as funções já prontas, é possível criar elas do zero com um certo nível de conhecimento.\n",
        "\n",
        "![](http://desenvolvedorsa.com/blog_novo/wp-content/uploads/2019/07/opengraph-icon-200x2001-1.png)\n",
        "\n",
        "\n",
        "\n",
        "\n"
      ]
    },
    {
      "cell_type": "code",
      "metadata": {
        "colab": {
          "base_uri": "https://localhost:8080/"
        },
        "id": "WLTB0cJ4Um4Q",
        "outputId": "0a258df1-ff8b-4d6c-e755-e53b74fa5688"
      },
      "source": [
        "# Círculo\n",
        "\n",
        "pi = 3.14\n",
        "radius = 5\n",
        "\n",
        "circle_perimeter = 2 * pi * radius\n",
        "circle_area = pi * (radius ** 2)\n",
        "\n",
        "print (\"O perímetro do círculo é:\\n\", circle_perimeter)\n",
        "print (\"A área do círculo é:\\n\", circle_area)"
      ],
      "execution_count": null,
      "outputs": [
        {
          "output_type": "stream",
          "text": [
            "O perímetro do círculo é:\n",
            " 31.400000000000002\n",
            "A área do círculo é:\n",
            " 78.5\n"
          ],
          "name": "stdout"
        }
      ]
    },
    {
      "cell_type": "code",
      "metadata": {
        "colab": {
          "base_uri": "https://localhost:8080/"
        },
        "id": "2uAo5X81UoHU",
        "outputId": "e7c45f3e-81f7-4249-ce09-9cbf536abcee"
      },
      "source": [
        "# Baskhara Parte 1\n",
        "\n",
        "a = -5\n",
        "b = 2\n",
        "c = 3\n",
        "\n",
        "delta = (b ** 2) - 4 * a * c\n",
        "\n",
        "x_1 = (-b + delta ** (1 / 2)) / (2 * a)\n",
        "x_2 = (-b - delta ** (1 / 2)) / (2 * a)\n",
        "\n",
        "\n",
        "#print(f\"delta: {delta}, x_1: {x_1}, x_2: {x_2}\")\n",
        "\n",
        "print (\"A raiz de x1 é:\\n\", x_1)\n",
        "print (\"A raiz de x2 é:\\n\", x_2) \n"
      ],
      "execution_count": null,
      "outputs": [
        {
          "output_type": "stream",
          "text": [
            "A raiz de x1 é:\n",
            " -0.6\n",
            "A raiz de x2 é:\n",
            " 1.0\n"
          ],
          "name": "stdout"
        }
      ]
    },
    {
      "cell_type": "code",
      "metadata": {
        "colab": {
          "base_uri": "https://localhost:8080/",
          "height": 35
        },
        "id": "anN9CBh5cMlH",
        "outputId": "c3947e92-0a52-4582-ac11-c39a2bbe70ef"
      },
      "source": [
        "#Transcrição – parte I\n",
        "\n",
        "dna_sequence = \"ACTGACTCAGTCGTCGATCGATCGCTGATC\"\n",
        "\n",
        "rna_sequence = dna_sequence.replace(\"T\", \"U\")\n",
        "\n",
        "rna_sequence"
      ],
      "execution_count": null,
      "outputs": [
        {
          "output_type": "execute_result",
          "data": {
            "application/vnd.google.colaboratory.intrinsic+json": {
              "type": "string"
            },
            "text/plain": [
              "'ACUGACUCAGUCGUCGAUCGAUCGCUGAUC'"
            ]
          },
          "metadata": {
            "tags": []
          },
          "execution_count": 128
        }
      ]
    },
    {
      "cell_type": "code",
      "metadata": {
        "colab": {
          "base_uri": "https://localhost:8080/"
        },
        "id": "ed7NE4wddZnL",
        "outputId": "23ef8696-9a04-4fe2-90d4-1dffaf51f649"
      },
      "source": [
        "#Short Sequence Repeat (SSR)\n",
        "\n",
        "ssr_repeat = \"GCATCGAC\"\n",
        "\n",
        "ssr_allele_5 = (ssr_repeat * 5)\n",
        "ssr_allele_7 = (ssr_repeat * 7)\n",
        "\n",
        "print (\"ssr allele 5:\\n\", ssr_allele_5)\n",
        "print (\"srr allele 7:\\n\", ssr_allele_7)\n",
        "\n",
        "#print(f\"srr_allele_5: {ssr_repeat*5} srr_allele_7: {ssr_repeat*7}\")"
      ],
      "execution_count": null,
      "outputs": [
        {
          "output_type": "stream",
          "text": [
            "ssr allele 5:\n",
            " GCATCGACGCATCGACGCATCGACGCATCGACGCATCGAC\n",
            "srr allele 7:\n",
            " GCATCGACGCATCGACGCATCGACGCATCGACGCATCGACGCATCGACGCATCGAC\n"
          ],
          "name": "stdout"
        }
      ]
    },
    {
      "cell_type": "code",
      "metadata": {
        "colab": {
          "base_uri": "https://localhost:8080/",
          "height": 35
        },
        "id": "czj94-FFnWN7",
        "outputId": "99f552f1-4873-46e0-fa0c-7dc5603b1984"
      },
      "source": [
        "#Primeiro códon – parte I\n",
        "\n",
        "dna_sequence = \"ACTGACTGACTGACGCATAGGCAT\"\n",
        "\n",
        "codon = dna_sequence[0:3]\n",
        "\n",
        "codon"
      ],
      "execution_count": null,
      "outputs": [
        {
          "output_type": "execute_result",
          "data": {
            "application/vnd.google.colaboratory.intrinsic+json": {
              "type": "string"
            },
            "text/plain": [
              "'ACT'"
            ]
          },
          "metadata": {
            "tags": []
          },
          "execution_count": 126
        }
      ]
    },
    {
      "cell_type": "code",
      "metadata": {
        "colab": {
          "base_uri": "https://localhost:8080/"
        },
        "id": "0B29TvDmwsjN",
        "outputId": "7b4916f7-06fe-4889-e4c2-325136378df9"
      },
      "source": [
        "#Primeiro códon – parte II\n",
        "\n",
        "\n",
        "dna_sequence = \"ACTGACTGACTGACGCATAGGCAT\"\n",
        "\n",
        "codon = dna_sequence[0:3]\n",
        "\n",
        "if codon == \"ACT\":\n",
        "  print (\"É um codon de iniciação.\")\n",
        "else:\n",
        "  print (\"Não é um codom de iniciação.\")"
      ],
      "execution_count": null,
      "outputs": [
        {
          "output_type": "stream",
          "text": [
            "É um codon de iniciação.\n"
          ],
          "name": "stdout"
        }
      ]
    },
    {
      "cell_type": "code",
      "metadata": {
        "colab": {
          "base_uri": "https://localhost:8080/"
        },
        "id": "oSYvr9yO9BEN",
        "outputId": "24267ed5-0a37-4ab9-9324-3e11af637dd9"
      },
      "source": [
        "#Fim de transcrição\n",
        "\n",
        "sequence_codons = ['ATG', 'GGG', 'CCC', 'AAA', 'TAA', 'GGC']\n",
        "\n",
        "stop_codons = ['TAA', 'TGA', 'TAG']\n",
        "\n",
        "\n",
        "for codon in sequence_codons:\n",
        "  if codon in stop_codons: \n",
        "    print (\"códon de terminação encontrado\")\n",
        "    break\n",
        "  else:\n",
        "    print (codon)\n"
      ],
      "execution_count": null,
      "outputs": [
        {
          "output_type": "stream",
          "text": [
            "ATG\n",
            "GGG\n",
            "CCC\n",
            "AAA\n",
            "códon de terminação encontrado\n"
          ],
          "name": "stdout"
        }
      ]
    },
    {
      "cell_type": "code",
      "metadata": {
        "colab": {
          "base_uri": "https://localhost:8080/"
        },
        "id": "qxNICGEKBy6I",
        "outputId": "998b63ea-8156-401a-e886-9790ebccf132"
      },
      "source": [
        "#Complementariedade de base\n",
        "\n",
        "base_complement = {\"A\":\"T\", \"T\":\"A\", \"C\":\"G\", \"G\":\"C\"}\n",
        "dna_sequence = \"ACGT\"\n",
        "dna_sequence_complement = \"\"\n",
        "\n",
        "for base in dna_sequence:\n",
        "  dna_sequence_complement += base_complement[base]\n",
        "  \n",
        "  print(dna_sequence)\n",
        "  print(dna_sequence_complement)\n",
        "\n"
      ],
      "execution_count": null,
      "outputs": [
        {
          "output_type": "stream",
          "text": [
            "ACGT\n",
            "T\n",
            "ACGT\n",
            "TG\n",
            "ACGT\n",
            "TGC\n",
            "ACGT\n",
            "TGCA\n"
          ],
          "name": "stdout"
        }
      ]
    },
    {
      "cell_type": "code",
      "metadata": {
        "colab": {
          "base_uri": "https://localhost:8080/"
        },
        "id": "JYwl-5i0K8j0",
        "outputId": "e334665c-2405-4964-b38b-3c05e0b4dbc1"
      },
      "source": [
        "#Baskhara – parte II\n",
        "\n",
        "#a = -5\n",
        "#b = 2\n",
        "#c = 3\n",
        "\n",
        "#delta = (b ** 2) - 4 * a * c\n",
        "\n",
        "#x_1 = (-b + delta ** (1 / 2)) / (2 * a)\n",
        "#x_2 = (-b - delta ** (1 / 2)) / (2 * a)\n",
        "\n",
        "#print(f\"delta: {delta}, x_1: {x_1}, x_2: {x_2}\")\n",
        "\n",
        "#print (\"A raiz de x1 é:\\n\", x_1)\n",
        "#print (\"A raiz de x2 é:\\n\", x_2) \n",
        "\n",
        "def baskhara (a, b, c):\n",
        "  delta = (b ** 2) - 4 * a * c\n",
        "  x_1 = (-b + delta ** (1 / 2)) / (2 * a)\n",
        "  x_2 = (-b - delta ** (1 / 2)) / (2 * a)\n",
        "  return print (f\"x1: {x_1}, x2: {x_2}\")\n",
        "baskhara (a=-5,b=2,c=3)\n"
      ],
      "execution_count": null,
      "outputs": [
        {
          "output_type": "stream",
          "text": [
            "x1: -0.6, x2: 1.0\n"
          ],
          "name": "stdout"
        }
      ]
    },
    {
      "cell_type": "code",
      "metadata": {
        "colab": {
          "base_uri": "https://localhost:8080/",
          "height": 35
        },
        "id": "jTQvkYMRLGf4",
        "outputId": "719b0c26-6a81-47db-ba5b-a33d33492442"
      },
      "source": [
        "#Transcrição – parte II\n",
        "\n",
        "def transcription (dna_sequence):\n",
        "  rna_sequence = dna_sequence.replace(\"T\", \"U\")\n",
        "  return rna_sequence\n",
        "\n",
        "transcription(dna_sequence=\"CGAGATCGAGATCGAGATCGAGATCGAGATCGAGAT\")"
      ],
      "execution_count": null,
      "outputs": [
        {
          "output_type": "execute_result",
          "data": {
            "application/vnd.google.colaboratory.intrinsic+json": {
              "type": "string"
            },
            "text/plain": [
              "'CGAGAUCGAGAUCGAGAUCGAGAUCGAGAUCGAGAU'"
            ]
          },
          "metadata": {
            "tags": []
          },
          "execution_count": 121
        }
      ]
    }
  ]
}